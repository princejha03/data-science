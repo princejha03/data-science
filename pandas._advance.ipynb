{
 "cells": [
  {
   "cell_type": "markdown",
   "id": "b3e79880",
   "metadata": {},
   "source": [
    "##Data Modification\n"
   ]
  },
  {
   "cell_type": "code",
   "execution_count": 28,
   "id": "d3d1b9f4",
   "metadata": {},
   "outputs": [
    {
     "name": "stdout",
     "output_type": "stream",
     "text": [
      "      Name  Age  Department  Salary  Performance Score\n",
      "0   Prince   40          HR   12000                 85\n",
      "1    Rahul   34     Finance   34000                 46\n",
      "2    Mohit   55          IT   67000                 77\n",
      "3    Uttam   63  Operations   78000                 89\n",
      "4     Sonu   40          IT   47000                 90\n",
      "5     Monu   45     Finance   78000                 66\n",
      "6    Komal   56          HR   69000                 90\n",
      "7     Juli   35   Marketing   70000                 88\n",
      "8     Ravi   29          IT   45000                 70\n",
      "9    Pooja   32     Finance   52000                 82\n",
      "10    Aman   41  Operations   60000                 79\n",
      "11    Neha   27          HR   31000                 60\n",
      "12   Arjun   36   Marketing   56000                 91\n",
      "13   Kavya   31          IT   48000                 72\n",
      "14   Rohan   44     Finance   73000                 68\n",
      "15  Simran   28  Operations   42000                 74\n",
      "16   Vikas   39   Marketing   65000                 86\n",
      "17   Anita   30          HR   39000                 64\n",
      "18  Deepak   46     Finance   72000                 93\n",
      "19   Meena   38          IT   58000                 80\n"
     ]
    }
   ],
   "source": [
    "import pandas as pd\n",
    "data = {\n",
    "    \"Name\": [\n",
    "        \"Prince\", \"Rahul\", \"Mohit\", \"Uttam\", \"Sonu\",\n",
    "        \"Monu\", \"Komal\", \"Juli\", \"Ravi\", \"Pooja\",\n",
    "        \"Aman\", \"Neha\", \"Arjun\", \"Kavya\", \"Rohan\",\n",
    "        \"Simran\", \"Vikas\", \"Anita\", \"Deepak\", \"Meena\"\n",
    "    ],\n",
    "    \"Age\": [\n",
    "        40, 34, 55, 63, 40,\n",
    "        45, 56, 35, 29, 32,\n",
    "        41, 27, 36, 31, 44,\n",
    "        28, 39, 30, 46, 38\n",
    "    ],\n",
    "    \"Department\": [\n",
    "        \"HR\", \"Finance\", \"IT\", \"Operations\", \"IT\",\n",
    "        \"Finance\", \"HR\", \"Marketing\", \"IT\", \"Finance\",\n",
    "        \"Operations\", \"HR\", \"Marketing\", \"IT\", \"Finance\",\n",
    "        \"Operations\", \"Marketing\", \"HR\", \"Finance\", \"IT\"\n",
    "    ],\n",
    "    \"Salary\": [\n",
    "        12000, 34000, 67000, 78000, 47000,\n",
    "        78000, 69000, 70000, 45000, 52000,\n",
    "        60000, 31000, 56000, 48000, 73000,\n",
    "        42000, 65000, 39000, 72000, 58000\n",
    "    ],\n",
    "    \"Performance Score\": [\n",
    "        85, 46, 77, 89, 90,\n",
    "        66, 90, 88, 70, 82,\n",
    "        79, 60, 91, 72, 68,\n",
    "        74, 86, 64, 93, 80\n",
    "    ]\n",
    "}\n",
    "\n",
    "df=pd.DataFrame(data)\n",
    "print(df)\n"
   ]
  },
  {
   "cell_type": "markdown",
   "id": "0030b26d",
   "metadata": {},
   "source": [
    "###to add column\n"
   ]
  },
  {
   "cell_type": "code",
   "execution_count": 29,
   "id": "753e79ef",
   "metadata": {},
   "outputs": [
    {
     "name": "stdout",
     "output_type": "stream",
     "text": [
      "    Employee ID    Name  Age  Department  Salary  Performance Score   Bonus\n",
      "0            10  Prince   40          HR   12000                 85  1200.0\n",
      "1            20   Rahul   34     Finance   34000                 46  3400.0\n",
      "2            30   Mohit   55          IT   67000                 77  6700.0\n",
      "3            40   Uttam   63  Operations   78000                 89  7800.0\n",
      "4            50    Sonu   40          IT   47000                 90  4700.0\n",
      "5            60    Monu   45     Finance   78000                 66  7800.0\n",
      "6            70   Komal   56          HR   69000                 90  6900.0\n",
      "7            80    Juli   35   Marketing   70000                 88  7000.0\n",
      "8            90    Ravi   29          IT   45000                 70  4500.0\n",
      "9           100   Pooja   32     Finance   52000                 82  5200.0\n",
      "10          110    Aman   41  Operations   60000                 79  6000.0\n",
      "11          120    Neha   27          HR   31000                 60  3100.0\n",
      "12          130   Arjun   36   Marketing   56000                 91  5600.0\n",
      "13          140   Kavya   31          IT   48000                 72  4800.0\n",
      "14          150   Rohan   44     Finance   73000                 68  7300.0\n",
      "15          160  Simran   28  Operations   42000                 74  4200.0\n",
      "16          170   Vikas   39   Marketing   65000                 86  6500.0\n",
      "17          180   Anita   30          HR   39000                 64  3900.0\n",
      "18          190  Deepak   46     Finance   72000                 93  7200.0\n",
      "19          200   Meena   38          IT   58000                 80  5800.0\n"
     ]
    }
   ],
   "source": [
    "#df[\"Column name\"]= some_data\n",
    "df[\"Bonus\"] = df[\"Salary\"]*0.1\n",
    "\n",
    "#method 2 using insert\n",
    "#df.insert(loc,\"Column Name\",some_data)\n",
    "df.insert(0,\"Employee ID\",[10,20,30,40,50,60,70,80,90,100,110,120,130,140,150,160,170,180,190,200])\n",
    "print(df)"
   ]
  },
  {
   "cell_type": "code",
   "execution_count": 30,
   "id": "bfa5d23d",
   "metadata": {},
   "outputs": [
    {
     "name": "stdout",
     "output_type": "stream",
     "text": [
      "    Employee ID    Name  Age  Department  Salary  Performance Score   Bonus  \\\n",
      "0            10  Prince   40          HR   12000                 85  1200.0   \n",
      "1            20   Rahul   34     Finance   34000                 46  3400.0   \n",
      "2            30   Mohit   55          IT   67000                 77  6700.0   \n",
      "3            40   Uttam   63  Operations   78000                 89  7800.0   \n",
      "4            50    Sonu   40          IT   47000                 90  4700.0   \n",
      "5            60    Monu   45     Finance   78000                 66  7800.0   \n",
      "6            70   Komal   56          HR   69000                 90  6900.0   \n",
      "7            80    Juli   35   Marketing   70000                 88  7000.0   \n",
      "8            90    Ravi   29          IT   45000                 70  4500.0   \n",
      "9           100   Pooja   32     Finance   52000                 82  5200.0   \n",
      "10          110    Aman   41  Operations   60000                 79  6000.0   \n",
      "11          120    Neha   27          HR   31000                 60  3100.0   \n",
      "12          130   Arjun   36   Marketing   56000                 91  5600.0   \n",
      "13          140   Kavya   31          IT   48000                 72  4800.0   \n",
      "14          150   Rohan   44     Finance   73000                 68  7300.0   \n",
      "15          160  Simran   28  Operations   42000                 74  4200.0   \n",
      "16          170   Vikas   39   Marketing   65000                 86  6500.0   \n",
      "17          180   Anita   30          HR   39000                 64  3900.0   \n",
      "18          190  Deepak   46     Finance   72000                 93  7200.0   \n",
      "19          200   Meena   38          IT   58000                 80  5800.0   \n",
      "\n",
      "    Total Salary  \n",
      "0        13200.0  \n",
      "1        37400.0  \n",
      "2        73700.0  \n",
      "3        85800.0  \n",
      "4        51700.0  \n",
      "5        85800.0  \n",
      "6        75900.0  \n",
      "7        77000.0  \n",
      "8        49500.0  \n",
      "9        57200.0  \n",
      "10       66000.0  \n",
      "11       34100.0  \n",
      "12       61600.0  \n",
      "13       52800.0  \n",
      "14       80300.0  \n",
      "15       46200.0  \n",
      "16       71500.0  \n",
      "17       42900.0  \n",
      "18       79200.0  \n",
      "19       63800.0  \n"
     ]
    }
   ],
   "source": [
    "df.insert(7,\"Total Salary\",df[\"Salary\"]+df[\"Bonus\"])\n",
    "print(df)"
   ]
  },
  {
   "cell_type": "code",
   "execution_count": 33,
   "id": "886e9fe9",
   "metadata": {},
   "outputs": [
    {
     "name": "stdout",
     "output_type": "stream",
     "text": [
      "    Employee ID    Name  Age  Department   Salary  Performance Score   Bonus  \\\n",
      "0            10  Prince   40          HR  23100.0                 85  1200.0   \n",
      "1            20   Rahul   34     Finance  35700.0                 46  3400.0   \n",
      "2            30   Mohit   55          IT  70350.0                 77  6700.0   \n",
      "3            40   Uttam   63  Operations  81900.0                 89  7800.0   \n",
      "4            50    Sonu   40          IT  49350.0                 90  4700.0   \n",
      "5            60    Monu   45     Finance  81900.0                 66  7800.0   \n",
      "6            70   Komal   56          HR  72450.0                 90  6900.0   \n",
      "7            80    Juli   35   Marketing  73500.0                 88  7000.0   \n",
      "8            90    Ravi   29          IT  47250.0                 70  4500.0   \n",
      "9           100   Pooja   32     Finance  54600.0                 82  5200.0   \n",
      "10          110    Aman   41  Operations  63000.0                 79  6000.0   \n",
      "11          120    Neha   27          HR  32550.0                 60  3100.0   \n",
      "12          130   Arjun   36   Marketing  58800.0                 91  5600.0   \n",
      "13          140   Kavya   31          IT  50400.0                 72  4800.0   \n",
      "14          150   Rohan   44     Finance  76650.0                 68  7300.0   \n",
      "15          160  Simran   28  Operations  44100.0                 74  4200.0   \n",
      "16          170   Vikas   39   Marketing  68250.0                 86  6500.0   \n",
      "17          180   Anita   30          HR  40950.0                 64  3900.0   \n",
      "18          190  Deepak   46     Finance  75600.0                 93  7200.0   \n",
      "19          200   Meena   38          IT  60900.0                 80  5800.0   \n",
      "\n",
      "    Total Salary  \n",
      "0        13200.0  \n",
      "1        37400.0  \n",
      "2        73700.0  \n",
      "3        85800.0  \n",
      "4        51700.0  \n",
      "5        85800.0  \n",
      "6        75900.0  \n",
      "7        77000.0  \n",
      "8        49500.0  \n",
      "9        57200.0  \n",
      "10       66000.0  \n",
      "11       34100.0  \n",
      "12       61600.0  \n",
      "13       52800.0  \n",
      "14       80300.0  \n",
      "15       46200.0  \n",
      "16       71500.0  \n",
      "17       42900.0  \n",
      "18       79200.0  \n",
      "19       63800.0  \n"
     ]
    }
   ],
   "source": [
    "##Update a column\n",
    "#df[\"Column Name\"]= some_data\n",
    "# df.loc[row_index,\"column Name\"] = new_value\n",
    "df.loc[0,'Salary']=df.loc[0,\"Salary\"]+5000\n",
    "#udating multiple rows\n",
    "df[\"Salary\"]=df[\"Salary\"]*1.05\n",
    "print(df)"
   ]
  },
  {
   "cell_type": "markdown",
   "id": "bf2acc22",
   "metadata": {},
   "source": [
    "##removing Column"
   ]
  },
  {
   "cell_type": "code",
   "execution_count": null,
   "id": "b068eae2",
   "metadata": {},
   "outputs": [
    {
     "name": "stdout",
     "output_type": "stream",
     "text": [
      "    Employee ID    Name  Age  Department   Salary  Performance Score   Bonus\n",
      "0            10  Prince   40          HR  23100.0                 85  1200.0\n",
      "1            20   Rahul   34     Finance  35700.0                 46  3400.0\n",
      "2            30   Mohit   55          IT  70350.0                 77  6700.0\n",
      "3            40   Uttam   63  Operations  81900.0                 89  7800.0\n",
      "4            50    Sonu   40          IT  49350.0                 90  4700.0\n",
      "5            60    Monu   45     Finance  81900.0                 66  7800.0\n",
      "6            70   Komal   56          HR  72450.0                 90  6900.0\n",
      "7            80    Juli   35   Marketing  73500.0                 88  7000.0\n",
      "8            90    Ravi   29          IT  47250.0                 70  4500.0\n",
      "9           100   Pooja   32     Finance  54600.0                 82  5200.0\n",
      "10          110    Aman   41  Operations  63000.0                 79  6000.0\n",
      "11          120    Neha   27          HR  32550.0                 60  3100.0\n",
      "12          130   Arjun   36   Marketing  58800.0                 91  5600.0\n",
      "13          140   Kavya   31          IT  50400.0                 72  4800.0\n",
      "14          150   Rohan   44     Finance  76650.0                 68  7300.0\n",
      "15          160  Simran   28  Operations  44100.0                 74  4200.0\n",
      "16          170   Vikas   39   Marketing  68250.0                 86  6500.0\n",
      "17          180   Anita   30          HR  40950.0                 64  3900.0\n",
      "18          190  Deepak   46     Finance  75600.0                 93  7200.0\n",
      "19          200   Meena   38          IT  60900.0                 80  5800.0\n"
     ]
    }
   ],
   "source": [
    "#df.drop(columns=[\"Column name\",\"colummn 2\"],inplace = True)\n",
    "df.drop(columns=[\"Total Salary\"],inplace=True)\n",
    "print(df)"
   ]
  }
 ],
 "metadata": {
  "kernelspec": {
   "display_name": "Python 3",
   "language": "python",
   "name": "python3"
  },
  "language_info": {
   "codemirror_mode": {
    "name": "ipython",
    "version": 3
   },
   "file_extension": ".py",
   "mimetype": "text/x-python",
   "name": "python",
   "nbconvert_exporter": "python",
   "pygments_lexer": "ipython3",
   "version": "3.13.5"
  }
 },
 "nbformat": 4,
 "nbformat_minor": 5
}
