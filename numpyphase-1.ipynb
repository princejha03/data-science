{
 "cells": [
  {
   "cell_type": "markdown",
   "id": "0ec6bca7",
   "metadata": {},
   "source": [
    "##numpy array and basic"
   ]
  },
  {
   "cell_type": "code",
   "execution_count": 1,
   "id": "a6501791",
   "metadata": {},
   "outputs": [],
   "source": [
    "import numpy as np"
   ]
  },
  {
   "cell_type": "markdown",
   "id": "0d9f4029",
   "metadata": {},
   "source": [
    "Creating arrays from the list"
   ]
  },
  {
   "cell_type": "code",
   "execution_count": 2,
   "id": "295eaddd",
   "metadata": {},
   "outputs": [
    {
     "name": "stdout",
     "output_type": "stream",
     "text": [
      "1-D array is:  [1 2 3 4 5]\n",
      "2-D array:  [[1 2 3]\n",
      " [4 5 6]]\n"
     ]
    }
   ],
   "source": [
    "arr_1D=np.array([1,2,3,4,5])\n",
    "print(\"1-D array is: \",arr_1D)\n",
    "\n",
    "arr_2D=np.array([[1,2,3],[4,5,6]])\n",
    "print(\"2-D array: \",arr_2D)"
   ]
  },
  {
   "cell_type": "markdown",
   "id": "87c54f30",
   "metadata": {},
   "source": [
    "List vs numpy\n"
   ]
  },
  {
   "cell_type": "code",
   "execution_count": 3,
   "id": "59f33db6",
   "metadata": {},
   "outputs": [
    {
     "name": "stdout",
     "output_type": "stream",
     "text": [
      "python list multiplication:  [1, 2, 3, 1, 2, 3]\n",
      "Python multiplication of array:  [2 4 6]\n"
     ]
    }
   ],
   "source": [
    "py_list = [1,2,3] #list multiplication\n",
    "print(\"python list multiplication: \",py_list * 2)\n",
    "\n",
    "np_array = np.array([1,2,3]) #element wise multiplication\n",
    "print(\"Python multiplication of array: \",np_array *2)"
   ]
  },
  {
   "cell_type": "code",
   "execution_count": null,
   "id": "c6433e1f",
   "metadata": {},
   "outputs": [],
   "source": []
  }
 ],
 "metadata": {
  "kernelspec": {
   "display_name": "Python 3",
   "language": "python",
   "name": "python3"
  },
  "language_info": {
   "codemirror_mode": {
    "name": "ipython",
    "version": 3
   },
   "file_extension": ".py",
   "mimetype": "text/x-python",
   "name": "python",
   "nbconvert_exporter": "python",
   "pygments_lexer": "ipython3",
   "version": "3.11.9"
  }
 },
 "nbformat": 4,
 "nbformat_minor": 5
}
