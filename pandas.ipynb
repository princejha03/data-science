{
 "cells": [
  {
   "cell_type": "code",
   "execution_count": 1,
   "id": "be88f26d",
   "metadata": {},
   "outputs": [
    {
     "name": "stdout",
     "output_type": "stream",
     "text": [
      "Requirement already satisfied: pandas in c:\\users\\91882\\appdata\\local\\programs\\python\\python313\\lib\\site-packages (2.3.0)\n",
      "Requirement already satisfied: numpy>=1.26.0 in c:\\users\\91882\\appdata\\local\\programs\\python\\python313\\lib\\site-packages (from pandas) (2.3.1)\n",
      "Requirement already satisfied: python-dateutil>=2.8.2 in c:\\users\\91882\\appdata\\local\\programs\\python\\python313\\lib\\site-packages (from pandas) (2.9.0.post0)\n",
      "Requirement already satisfied: pytz>=2020.1 in c:\\users\\91882\\appdata\\local\\programs\\python\\python313\\lib\\site-packages (from pandas) (2025.2)\n",
      "Requirement already satisfied: tzdata>=2022.7 in c:\\users\\91882\\appdata\\local\\programs\\python\\python313\\lib\\site-packages (from pandas) (2025.2)\n",
      "Requirement already satisfied: six>=1.5 in c:\\users\\91882\\appdata\\local\\programs\\python\\python313\\lib\\site-packages (from python-dateutil>=2.8.2->pandas) (1.17.0)\n",
      "Note: you may need to restart the kernel to use updated packages.\n"
     ]
    },
    {
     "name": "stderr",
     "output_type": "stream",
     "text": [
      "\n",
      "[notice] A new release of pip is available: 25.1.1 -> 25.2\n",
      "[notice] To update, run: python.exe -m pip install --upgrade pip\n"
     ]
    }
   ],
   "source": [
    "pip install pandas\n"
   ]
  },
  {
   "cell_type": "code",
   "execution_count": null,
   "id": "c5b876dd",
   "metadata": {},
   "outputs": [],
   "source": [
    "import pandas as pd\n",
    "#read file\n",
    "df = pd.read_csv(\"matches_2008-2024.csv\")\n",
    "#read_excel,#read_json (for cloud platform data use -> gcsfs )\n",
    "print(df)"
   ]
  },
  {
   "cell_type": "code",
   "execution_count": null,
   "id": "3ae0395e",
   "metadata": {},
   "outputs": [
    {
     "name": "stdout",
     "output_type": "stream",
     "text": [
      "     Name  Age    city\n",
      "0  prince   10  nagpur\n",
      "1     jha   12  mumbai\n",
      "2   uttam   24   delhi\n"
     ]
    }
   ],
   "source": [
    "#to create a file in panda\n",
    "\n",
    "data={\n",
    "    \"Name\":[\"prince\",\"jha\",\"uttam\"],\n",
    "    \"Age\":[10,12,24],\n",
    "    \"city\":[\"nagpur\",\"mumbai\",\"delhi\"],\n",
    "\n",
    "}\n",
    "df= pd.DataFrame(data)\n",
    "print(df)\n",
    "\n",
    "df.to_csv(\"output.csv\",index=False)#to remove index no of file.\n",
    "#for excel df.to_excel(\"name\",index), df.to_json(\"name\",index=)"
   ]
  },
  {
   "cell_type": "code",
   "execution_count": null,
   "id": "eeaa48ad",
   "metadata": {},
   "outputs": [
    {
     "name": "stdout",
     "output_type": "stream",
     "text": [
      "<class 'pandas.core.frame.DataFrame'>\n",
      "RangeIndex: 1095 entries, 0 to 1094\n",
      "Data columns (total 20 columns):\n",
      " #   Column           Non-Null Count  Dtype  \n",
      "---  ------           --------------  -----  \n",
      " 0   id               1095 non-null   int64  \n",
      " 1   season           1095 non-null   int64  \n",
      " 2   city             1044 non-null   object \n",
      " 3   date             1095 non-null   object \n",
      " 4   match_type       1095 non-null   object \n",
      " 5   player_of_match  1090 non-null   object \n",
      " 6   venue            1095 non-null   object \n",
      " 7   team1            1095 non-null   object \n",
      " 8   team2            1095 non-null   object \n",
      " 9   toss_winner      1095 non-null   object \n",
      " 10  toss_decision    1095 non-null   object \n",
      " 11  winner           1090 non-null   object \n",
      " 12  result           1095 non-null   object \n",
      " 13  result_margin    1076 non-null   float64\n",
      " 14  target_runs      1092 non-null   float64\n",
      " 15  target_overs     1092 non-null   float64\n",
      " 16  super_over       1095 non-null   object \n",
      " 17  method           21 non-null     object \n",
      " 18  umpire1          1095 non-null   object \n",
      " 19  umpire2          1095 non-null   object \n",
      "dtypes: float64(3), int64(2), object(15)\n",
      "memory usage: 171.2+ KB\n",
      "None\n"
     ]
    }
   ],
   "source": [
    "#explore data\n",
    "#step-1 understand the data, 2) identify the problems,3) plan next step #head(n),tail(n), n-no of rows ,default 5 lows is euqal to n\n",
    "import pandas as pd\n",
    "df = pd.read_csv(\"matches_2008-2024.csv\")\n",
    "# print(df.head(10))\n",
    "# print(df.tail(10))\n",
    "\n",
    "information = df.info() #infromation of data or provide overview of the data(summery)\n",
    "print(information)\n"
   ]
  },
  {
   "cell_type": "code",
   "execution_count": null,
   "id": "61b8e774",
   "metadata": {},
   "outputs": [
    {
     "name": "stdout",
     "output_type": "stream",
     "text": [
      "sample dataframe\n",
      "     name  Age  Salary  Performance Score\n",
      "0  prince   40   12000                 85\n",
      "1   rahul   34   34000                 46\n",
      "2   mohit   55   67000                 77\n",
      "3   uttam   63   78000                 89\n",
      "4    sonu   40   47000                 90\n",
      "5    monu   45   78000                 66\n",
      "6   komal   56   69000                 90\n",
      "7    juli   35   70000                 88\n",
      "Descriptive Mean\n",
      "             Age        Salary  Performance Score\n",
      "count   8.000000      8.000000           8.000000\n",
      "mean   46.000000  56875.000000          78.875000\n",
      "std    10.743769  23751.315753          15.679263\n",
      "min    34.000000  12000.000000          46.000000\n",
      "25%    38.750000  43750.000000          74.250000\n",
      "50%    42.500000  68000.000000          86.500000\n",
      "75%    55.250000  72000.000000          89.250000\n",
      "max    63.000000  78000.000000          90.000000\n"
     ]
    }
   ],
   "source": [
    "import pandas as pd\n",
    "data ={\n",
    "    \"name\":[\"prince\",\"rahul\",\"mohit\",\"uttam\",\"sonu\",\"monu\",\"komal\",\"juli\"],\n",
    "    \"Age\":[40,34,55,63,40,45,56,35],\n",
    "    \"Salary\":[12000,34000,67000,78000,47000,78000,69000,70000],\n",
    "    \"Performance Score\":[85,46,77,89,90,66,90,88]\n",
    "}\n",
    "df=pd.DataFrame(data)\n",
    "print(\"sample dataframe\")\n",
    "print(df)\n",
    "print(\"Descriptive Mean\")\n",
    "print(df.describe())"
   ]
  },
  {
   "cell_type": "code",
   "execution_count": 22,
   "id": "715e2300",
   "metadata": {},
   "outputs": [
    {
     "name": "stdout",
     "output_type": "stream",
     "text": [
      "     name  Age  Salary  Performance Score\n",
      "0  prince   40   12000                 85\n",
      "1   rahul   34   34000                 46\n",
      "2   mohit   55   67000                 77\n",
      "3   uttam   63   78000                 89\n",
      "4    sonu   40   47000                 90\n",
      "5    monu   45   78000                 66\n",
      "6   komal   56   69000                 90\n",
      "7    juli   35   70000                 88\n",
      "Shape:(8, 4)\n",
      "{\"Column names:Index(['name', 'Age', 'Salary', 'Performance Score'], dtype='object')\"}\n"
     ]
    }
   ],
   "source": [
    "#how big your data\n",
    "de=pd.DataFrame(data)\n",
    "print(df)\n",
    "print(f\"Shape:{df.shape}\")\n",
    "print({f'Column names:{df.columns}'})"
   ]
  },
  {
   "cell_type": "markdown",
   "id": "4590a4d9",
   "metadata": {},
   "source": [
    "<!-- 1- select specific column\n",
    "2- filter rows\n",
    "3- combine multiple conditions -->\n",
    "column = df[\"column1\"]\n",
    "column = df[\"column1\",\"column2\"]\n",
    "filtered_rows = df[df[\"salary\"]> 50000] #single consition\n",
    "filter_row = df[(df[\"salary]>50000)& (df[\"column2]<80000)]"
   ]
  },
  {
   "cell_type": "code",
   "execution_count": null,
   "id": "db8966fb",
   "metadata": {},
   "outputs": [],
   "source": [
    "import pandas as pd\n",
    "data ={\n",
    "    \"Name\":[\"prince\",\"rahul\",\"mohit\",\"uttam\",\"sonu\",\"monu\",\"komal\",\"juli\"],\n",
    "    \"Age\":[40,34,55,63,40,45,56,35],\n",
    "    \"Salary\":[12000,34000,67000,78000,47000,78000,69000,70000],\n",
    "    \"Performance Score\":[85,46,77,89,90,66,90,88]\n",
    "}\n",
    "df=pd.DataFrame(data)\n",
    "print(\"sample Data frame\")\n",
    "print(df)\n",
    "print(\"name (Single colums return Series)\")\n",
    "# print(df[\"Name\"]) #for single column\n",
    "sunset = df[[\"Name\",\"Salary\"]] # for multiple dataset\n",
    "print(\"\\nsubset with name and salary.\")\n",
    "print(sunset)"
   ]
  },
  {
   "cell_type": "code",
   "execution_count": null,
   "id": "227737b0",
   "metadata": {},
   "outputs": [
    {
     "name": "stdout",
     "output_type": "stream",
     "text": [
      "sample Data frame\n",
      "    Name  Age  Salary  Performance Score\n",
      "2  mohit   55   67000                 77\n",
      "3  uttam   63   78000                 89\n",
      "5   monu   45   78000                 66\n",
      "6  komal   56   69000                 90\n",
      "7   juli   35   70000                 88\n",
      "more than one condition\n",
      "    Name  Age  Salary  Performance Score\n",
      "2  mohit   55   67000                 77\n",
      "3  uttam   63   78000                 89\n",
      "5   monu   45   78000                 66\n",
      "6  komal   56   69000                 90\n",
      "7   juli   35   70000                 88\n",
      "     Name  Age  Salary  Performance Score\n",
      "0  prince   40   12000                 85\n",
      "2   mohit   55   67000                 77\n",
      "3   uttam   63   78000                 89\n",
      "4    sonu   40   47000                 90\n",
      "5    monu   45   78000                 66\n",
      "6   komal   56   69000                 90\n",
      "7    juli   35   70000                 88\n"
     ]
    }
   ],
   "source": [
    "#row filtering\n",
    "import pandas as pd\n",
    "data ={\n",
    "    \"Name\":[\"prince\",\"rahul\",\"mohit\",\"uttam\",\"sonu\",\"monu\",\"komal\",\"juli\"],\n",
    "    \"Age\":[40,34,55,63,40,45,56,35],\n",
    "    \"Salary\":[12000,34000,67000,78000,47000,78000,69000,70000],\n",
    "    \"Performance Score\":[85,46,77,89,90,66,90,88]\n",
    "}\n",
    "df=pd.DataFrame(data)\n",
    "print(\"sample Data frame\")\n",
    "\n",
    "high_salary = df[df['Salary']>50000]\n",
    "print(high_salary)\n",
    "print(\"more than one condition\")\n",
    "filtered = df[(df['Age']>30)& (df['Salary']>50000)]\n",
    "print(filtered)\n",
    "filtered_or =df[(df['Age']>35) | (df['Performance Score']>85)]\n",
    "print(filtered_or)"
   ]
  },
  {
   "cell_type": "code",
   "execution_count": null,
   "id": "f74ceba3",
   "metadata": {},
   "outputs": [],
   "source": []
  }
 ],
 "metadata": {
  "kernelspec": {
   "display_name": "Python 3",
   "language": "python",
   "name": "python3"
  },
  "language_info": {
   "codemirror_mode": {
    "name": "ipython",
    "version": 3
   },
   "file_extension": ".py",
   "mimetype": "text/x-python",
   "name": "python",
   "nbconvert_exporter": "python",
   "pygments_lexer": "ipython3",
   "version": "3.13.5"
  }
 },
 "nbformat": 4,
 "nbformat_minor": 5
}
